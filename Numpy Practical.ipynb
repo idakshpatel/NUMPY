{
 "cells": [
  {
   "cell_type": "code",
   "execution_count": 1,
   "id": "949955a4",
   "metadata": {},
   "outputs": [
    {
     "name": "stdout",
     "output_type": "stream",
     "text": [
      "Original 3x3 Array:\n",
      " [[ 6 63 96]\n",
      " [21 78 33]\n",
      " [97 34 22]]\n",
      "\n",
      "Transposed Array (Rows and Columns Interchanged):\n",
      " [[ 6 21 97]\n",
      " [63 78 34]\n",
      " [96 33 22]]\n"
     ]
    }
   ],
   "source": [
    "#1. Create a 3x3 NumPy array with random integers between 1 and 100. Then, interchange its rows and columns.\n",
    "\n",
    "\n",
    "import numpy as np\n",
    "\n",
    "# Create a 3x3 array with random integers between 1 and 100\n",
    "array_3x3 = np.random.randint(1, 101, size=(3, 3))\n",
    "print(\"Original 3x3 Array:\\n\", array_3x3)\n",
    "\n",
    "# Interchange rows and columns (transpose the array)\n",
    "transposed_array = array_3x3.T\n",
    "print(\"\\nTransposed Array (Rows and Columns Interchanged):\\n\", transposed_array)\n"
   ]
  },
  {
   "cell_type": "code",
   "execution_count": 2,
   "id": "bb251005",
   "metadata": {},
   "outputs": [
    {
     "name": "stdout",
     "output_type": "stream",
     "text": [
      "1D Array:\n",
      " [0 1 2 3 4 5 6 7 8 9]\n",
      "\n",
      "Reshaped to 2x5 Array:\n",
      " [[0 1 2 3 4]\n",
      " [5 6 7 8 9]]\n",
      "\n",
      "Reshaped to 5x2 Array:\n",
      " [[0 1]\n",
      " [2 3]\n",
      " [4 5]\n",
      " [6 7]\n",
      " [8 9]]\n"
     ]
    }
   ],
   "source": [
    "#2. Generate a 1D NumPy array with 10 elements. Reshape it into a 2x5 array, then into a 5x2 array.\n",
    "\n",
    "\n",
    "# Generate a 1D array with 10 elements\n",
    "array_1d = np.arange(10)\n",
    "print(\"1D Array:\\n\", array_1d)\n",
    "\n",
    "# Reshape it into a 2x5 array\n",
    "array_2x5 = array_1d.reshape(2, 5)\n",
    "print(\"\\nReshaped to 2x5 Array:\\n\", array_2x5)\n",
    "\n",
    "# Reshape it into a 5x2 array\n",
    "array_5x2 = array_2x5.reshape(5, 2)\n",
    "print(\"\\nReshaped to 5x2 Array:\\n\", array_5x2)\n"
   ]
  },
  {
   "cell_type": "code",
   "execution_count": 3,
   "id": "a7782003",
   "metadata": {},
   "outputs": [
    {
     "name": "stdout",
     "output_type": "stream",
     "text": [
      "Original 4x4 Array:\n",
      " [[0.73060371 0.95486006 0.75597915 0.62703783]\n",
      " [0.92546051 0.76188908 0.59166613 0.40862315]\n",
      " [0.17893902 0.6793795  0.61804089 0.31591196]\n",
      " [0.58139574 0.82043387 0.48382327 0.84067628]]\n",
      "\n",
      "6x6 Array with Zero Border:\n",
      " [[0.         0.         0.         0.         0.         0.        ]\n",
      " [0.         0.73060371 0.95486006 0.75597915 0.62703783 0.        ]\n",
      " [0.         0.92546051 0.76188908 0.59166613 0.40862315 0.        ]\n",
      " [0.         0.17893902 0.6793795  0.61804089 0.31591196 0.        ]\n",
      " [0.         0.58139574 0.82043387 0.48382327 0.84067628 0.        ]\n",
      " [0.         0.         0.         0.         0.         0.        ]]\n"
     ]
    }
   ],
   "source": [
    "#3Create a 4x4 NumPy array with random float values. Add a border of zeros around it, resulting in a 6x6 array.\n",
    "\n",
    "\n",
    "# Create a 4x4 array with random float values\n",
    "array_4x4 = np.random.rand(4, 4)\n",
    "print(\"Original 4x4 Array:\\n\", array_4x4)\n",
    "\n",
    "# Add a border of zeros around it (resulting in a 6x6 array)\n",
    "array_with_border = np.pad(array_4x4, pad_width=1, mode='constant', constant_values=0)\n",
    "print(\"\\n6x6 Array with Zero Border:\\n\", array_with_border)\n"
   ]
  },
  {
   "cell_type": "code",
   "execution_count": 4,
   "id": "1ee8d4cb",
   "metadata": {},
   "outputs": [
    {
     "name": "stdout",
     "output_type": "stream",
     "text": [
      "Array from 10 to 60 with a step of 5:\n",
      " [10 15 20 25 30 35 40 45 50 55 60]\n"
     ]
    }
   ],
   "source": [
    "#4.Using NumPy, create an array of integers from 10 to 60 with a step of 5.\n",
    "\n",
    "\n",
    "# Create an array from 10 to 60 with a step of 5\n",
    "array_step = np.arange(10, 65, 5)\n",
    "print(\"Array from 10 to 60 with a step of 5:\\n\", array_step)\n"
   ]
  },
  {
   "cell_type": "code",
   "execution_count": 5,
   "id": "8cfdb255",
   "metadata": {},
   "outputs": [
    {
     "name": "stdout",
     "output_type": "stream",
     "text": [
      "Original Array: ['python' 'numpy' 'pandas']\n",
      "Uppercase: ['PYTHON' 'NUMPY' 'PANDAS']\n",
      "Lowercase: ['python' 'numpy' 'pandas']\n",
      "Title Case: ['Python' 'Numpy' 'Pandas']\n"
     ]
    }
   ],
   "source": [
    "'''5. Create a NumPy array of strings ['python', 'numpy', 'pandas']. Apply different case transformations \n",
    "(uppercase, lowercase, title case, etc.) to each element.\n",
    "\n",
    "'''\n",
    "\n",
    "\n",
    "# Create a NumPy array of strings\n",
    "array_strings = np.array(['python', 'numpy', 'pandas'])\n",
    "\n",
    "# Apply different case transformations\n",
    "uppercase = np.char.upper(array_strings)\n",
    "lowercase = np.char.lower(array_strings)\n",
    "title_case = np.char.title(array_strings)\n",
    "\n",
    "print(\"Original Array:\", array_strings)\n",
    "print(\"Uppercase:\", uppercase)\n",
    "print(\"Lowercase:\", lowercase)\n",
    "print(\"Title Case:\", title_case)\n"
   ]
  },
  {
   "cell_type": "code",
   "execution_count": 6,
   "id": "3ac4e8be",
   "metadata": {},
   "outputs": [
    {
     "name": "stdout",
     "output_type": "stream",
     "text": [
      "Array with Spaces Between Characters:\n",
      " ['h e l l o' 'w o r l d' 'n u m p y']\n"
     ]
    }
   ],
   "source": [
    "'''6. Generate a NumPy array of words. Insert a space between each character of every word in the array.\n",
    "'''\n",
    "\n",
    "# Create a NumPy array of words\n",
    "words_array = np.array(['hello', 'world', 'numpy'])\n",
    "\n",
    "# Insert a space between each character of every word\n",
    "spaced_words = np.array([np.char.join(' ', word) for word in words_array])\n",
    "print(\"Array with Spaces Between Characters:\\n\", spaced_words)\n"
   ]
  },
  {
   "cell_type": "code",
   "execution_count": 7,
   "id": "d3b81db8",
   "metadata": {},
   "outputs": [
    {
     "name": "stdout",
     "output_type": "stream",
     "text": [
      "Array 1:\n",
      " [[1 2]\n",
      " [3 4]]\n",
      "Array 2:\n",
      " [[5 6]\n",
      " [7 8]]\n",
      "\n",
      "Element-wise Addition:\n",
      " [[ 6  8]\n",
      " [10 12]]\n",
      "Element-wise Subtraction:\n",
      " [[-4 -4]\n",
      " [-4 -4]]\n",
      "Element-wise Multiplication:\n",
      " [[ 5 12]\n",
      " [21 32]]\n",
      "Element-wise Division:\n",
      " [[0.2        0.33333333]\n",
      " [0.42857143 0.5       ]]\n"
     ]
    }
   ],
   "source": [
    "'''7. Create two 2D NumPy arrays and perform element-wise addition, subtraction, multiplication, and division.\n",
    "'''\n",
    "\n",
    "# Create two 2D arrays\n",
    "array1 = np.array([[1, 2], [3, 4]])\n",
    "array2 = np.array([[5, 6], [7, 8]])\n",
    "\n",
    "# Perform element-wise operations\n",
    "addition = array1 + array2\n",
    "subtraction = array1 - array2\n",
    "multiplication = array1 * array2\n",
    "division = array1 / array2\n",
    "\n",
    "print(\"Array 1:\\n\", array1)\n",
    "print(\"Array 2:\\n\", array2)\n",
    "print(\"\\nElement-wise Addition:\\n\", addition)\n",
    "print(\"Element-wise Subtraction:\\n\", subtraction)\n",
    "print(\"Element-wise Multiplication:\\n\", multiplication)\n",
    "print(\"Element-wise Division:\\n\", division)\n"
   ]
  },
  {
   "cell_type": "code",
   "execution_count": 8,
   "id": "0f1ee73c",
   "metadata": {},
   "outputs": [
    {
     "name": "stdout",
     "output_type": "stream",
     "text": [
      "5x5 Identity Matrix:\n",
      " [[1. 0. 0. 0. 0.]\n",
      " [0. 1. 0. 0. 0.]\n",
      " [0. 0. 1. 0. 0.]\n",
      " [0. 0. 0. 1. 0.]\n",
      " [0. 0. 0. 0. 1.]]\n",
      "\n",
      "Diagonal Elements: [1. 1. 1. 1. 1.]\n"
     ]
    }
   ],
   "source": [
    "#8. Use NumPy to create a 5x5 identity matrix, then extract its diagonal elements.\n",
    "\n",
    "\n",
    "# Create a 5x5 identity matrix\n",
    "identity_matrix = np.eye(5)\n",
    "print(\"5x5 Identity Matrix:\\n\", identity_matrix)\n",
    "\n",
    "# Extract its diagonal elements\n",
    "diagonal_elements = np.diag(identity_matrix)\n",
    "print(\"\\nDiagonal Elements:\", diagonal_elements)\n"
   ]
  },
  {
   "cell_type": "code",
   "execution_count": 9,
   "id": "f435937b",
   "metadata": {},
   "outputs": [
    {
     "name": "stdout",
     "output_type": "stream",
     "text": [
      "Random Integers:\n",
      " [445 163 573 351 751 239 947 258 436 146 372 529 284 455 480 961 764 299\n",
      " 723 608 684 429 172  64 177 733 402 106 253 675 467 335 982 776 846 886\n",
      "   2 503  68 314 361 751 608 586  14 553 686 230 304 788 741 801 432 928\n",
      "  16 125 233 596  15 130 281 567 237 298  61  91 794 945 857  48 628 696\n",
      " 441 269 114 257 246 764 602 352 227 900 288 882 428 451 151 292  89 884\n",
      " 354 858 398 807 422 962 965 626 383 781]\n",
      "\n",
      "Prime Numbers in the Array:\n",
      " [163 751 239 947 733 467   2 503 751 233 281  61 857 269 257 227 151  89\n",
      " 383]\n"
     ]
    }
   ],
   "source": [
    "'''9. Generate a NumPy array of 100 random integers between 0 and 1000. Find and display all prime numbers in \n",
    "this array.'''\n",
    "\n",
    "# Function to check if a number is prime\n",
    "def is_prime(num):\n",
    "    if num < 2:\n",
    "        return False\n",
    "    for i in range(2, int(np.sqrt(num)) + 1):\n",
    "        if num % i == 0:\n",
    "            return False\n",
    "    return True\n",
    "\n",
    "# Generate an array of 100 random integers between 0 and 1000\n",
    "random_integers = np.random.randint(0, 1001, size=100)\n",
    "print(\"Random Integers:\\n\", random_integers)\n",
    "\n",
    "# Filter out prime numbers\n",
    "prime_numbers = np.array([num for num in random_integers if is_prime(num)])\n",
    "print(\"\\nPrime Numbers in the Array:\\n\", prime_numbers)\n"
   ]
  },
  {
   "cell_type": "code",
   "execution_count": 12,
   "id": "9ac87be7",
   "metadata": {},
   "outputs": [
    {
     "name": "stdout",
     "output_type": "stream",
     "text": [
      "Daily Temperatures:\n",
      " [36 22 23 32 36 33 30 39 39 33 32 31 21 22 24 30 24 30 34 33 24 25 27 38\n",
      " 28 37 35 35 34 33]\n",
      "\n",
      "Weekly Averages (5 weeks x 6 days):\n",
      " [30.33333333 34.         25.16666667 30.16666667 33.66666667]\n"
     ]
    }
   ],
   "source": [
    "'''\n",
    "10. Create a NumPy array representing daily temperatures for a month. Calculate and display the weekly \n",
    "averages'''\n",
    "\n",
    "import numpy as np\n",
    "\n",
    "# Create an array representing daily temperatures for a 30-day month\n",
    "daily_temperatures = np.random.randint(20, 40, size=30)\n",
    "print(\"Daily Temperatures:\\n\", daily_temperatures)\n",
    "\n",
    "# Reshape to (5 weeks x 6 days) and calculate weekly averages\n",
    "weekly_averages = daily_temperatures.reshape(5, 6).mean(axis=1)\n",
    "print(\"\\nWeekly Averages (5 weeks x 6 days):\\n\", weekly_averages)\n"
   ]
  },
  {
   "cell_type": "code",
   "execution_count": null,
   "id": "a2a5b4fd",
   "metadata": {},
   "outputs": [],
   "source": []
  },
  {
   "cell_type": "code",
   "execution_count": null,
   "id": "037011e9",
   "metadata": {},
   "outputs": [],
   "source": []
  }
 ],
 "metadata": {
  "kernelspec": {
   "display_name": "Python 3 (ipykernel)",
   "language": "python",
   "name": "python3"
  },
  "language_info": {
   "codemirror_mode": {
    "name": "ipython",
    "version": 3
   },
   "file_extension": ".py",
   "mimetype": "text/x-python",
   "name": "python",
   "nbconvert_exporter": "python",
   "pygments_lexer": "ipython3",
   "version": "3.11.4"
  }
 },
 "nbformat": 4,
 "nbformat_minor": 5
}
